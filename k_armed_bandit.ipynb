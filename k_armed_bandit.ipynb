{
  "nbformat": 4,
  "nbformat_minor": 0,
  "metadata": {
    "colab": {
      "provenance": [],
      "authorship_tag": "ABX9TyPocNb3WW7qHW08kICJXxHo",
      "include_colab_link": true
    },
    "kernelspec": {
      "name": "python3",
      "display_name": "Python 3"
    },
    "language_info": {
      "name": "python"
    }
  },
  "cells": [
    {
      "cell_type": "markdown",
      "metadata": {
        "id": "view-in-github",
        "colab_type": "text"
      },
      "source": [
        "<a href=\"https://colab.research.google.com/github/JeonyuB/Uchan/blob/Hell/k_armed_bandit.ipynb\" target=\"_parent\"><img src=\"https://colab.research.google.com/assets/colab-badge.svg\" alt=\"Open In Colab\"/></a>"
      ]
    },
    {
      "cell_type": "code",
      "execution_count": null,
      "metadata": {
        "id": "Z5ngH6TNYoVr"
      },
      "outputs": [],
      "source": [
        "import numpy as np\n",
        "\n",
        "bandit=[[0,0,0,0,0],\n",
        "        [1,0,8,5,2],\n",
        "        [0,1,-1,2,28],\n",
        "        [7,-3,-3,-3,-3]]\n",
        "\n",
        "action=[0,-1,-1,-1]\n",
        "\n",
        "Q=np.array([-1.0,0.0,0.0,0.0])\n",
        "\n",
        "alpha=0.5\n",
        "\n",
        "selected=1\n",
        "print(f\"[1]bandit{selscted}\")\n",
        "\n",
        "action[selected]+=1\n",
        "\n",
        "for i in range(1,5):\n",
        "  reward=bandit[selected][]\n",
        "  Q[selected]=Q[selected]+alpha*(reward-Q[selected])\n",
        "\n",
        "  selected=np.argmax(Q)\n",
        "  print(f“[{i+1}]-th bandit {selected} is selected”)\n",
        "\n",
        "  action[selected]+=1"
      ]
    },
    {
      "cell_type": "markdown",
      "source": [
        "k-armed bandit:Sample-average method"
      ],
      "metadata": {
        "id": "6T5EC8zucHZE"
      }
    },
    {
      "cell_type": "code",
      "source": [
        "class Bandit:\n",
        "# (1) 변수 설정\n",
        "  def __init__(self, k, means, std_devs):\n",
        "    self.k = k\n",
        "    self.rewards = np.array([np.random.normal(loc=mean, scale=std_dev)\n",
        "                            for mean, std_dev in zip(means, std_devs)])\n",
        "    self.Qs = np.zeros(k) # action values for each action\n",
        "    self.num_selected = np.zeros(k) # number of times each action was selected\n",
        "# (2) reward 함수 정의: 선택한 action에 대한 reward를 return\n",
        "\n",
        "  def get_reward(self, action):\n",
        "    reward = self.rewards[action]\n",
        "    return reward\n",
        "\n",
        "  # (3) action 선택 함수 정의: 다음 action은 action_values (Qs) 중에서\n",
        "# 가장 큰 값으로 선택\n",
        "  def choose_action(self):\n",
        "    action = np.argmax(self.Qs)\n",
        "    return action\n",
        "# (4) action value (Q)를 update하는 함수 정의\n",
        "  def update_Qs(self, action, reward):\n",
        "    self.num_selected[action] += 1\n",
        "    alpha = 1.0 / self.num_selected[action]\n",
        "    self.Qs[action] += alpha * (reward - self.Qs[action]\n",
        "\n",
        "# (1) arm의 수 설정\n",
        "k = 3\n",
        "# (2) k-armed baidnt 초기화: Mean values for each action\n",
        "means = [2.75, 2.0, 2.5]\n",
        "std_devs = [0.5, 3.0, 2.0]\n",
        "bandit = Bandit(k, means, std_devs)\n",
        "# (3) 수행 횟수 설정\n",
        "n_iterations = 1000\n",
        "\n",
        "sum_reward = 0\n",
        "for i in range(n_iterations):\n",
        "# (1) action을 수행할 bandit을 결정\n",
        "action = bandit.choose_action()\n",
        "# 첫번째 action은 1로 선택\n",
        "if (i == 0):\n",
        "action = 1\n",
        "print(action)\n",
        "# (2) 선택한 action의 reward 가져오기\n",
        "reward = bandit.get_reward(action)\n",
        "sum_reward += reward\n",
        "# (3) 선택한 action의 Q 값 갱신\n",
        "bandit.update_Qs(action, reward)\n",
        "\n",
        "\n",
        "print(\"Number of selections for each action: \", bandit.num_selected)\n",
        "print(\"Estimated values for each action: \", bandit.Qs)\n",
        "print(\"Sum of reward:\", sum_reward)\n"
      ],
      "metadata": {
        "id": "ZsUamxeodhqi"
      },
      "execution_count": null,
      "outputs": []
    },
    {
      "cell_type": "markdown",
      "source": [
        " ε-greedy method"
      ],
      "metadata": {
        "id": "JA4Jsaz0ekwy"
      }
    },
    {
      "cell_type": "code",
      "source": [
        "class Bandit:\n",
        "  def __init__(self, k, means, std_devs):\n",
        "    self.epsilon = 0.1\n",
        "…\n",
        "# (3) random number를 선택\n",
        "# 이 값이 epsilon보다 작으면 random한 bandit 선택\n",
        "# 이 값이 epsilon보다 크면 이전과 같음\n",
        "  def choose_action(self):\n",
        "    if np.random.random() < self.epsilon:\n",
        "      action = np.random.choice(self.k)\n",
        "    else:\n",
        "      action = np.argmax(self.Qs)\n",
        "    return action\n"
      ],
      "metadata": {
        "id": "3nyZ8jf_ep1J"
      },
      "execution_count": null,
      "outputs": []
    },
    {
      "cell_type": "markdown",
      "source": [
        "Optimistic initial value"
      ],
      "metadata": {
        "id": "FOvQVKKGfURd"
      }
    },
    {
      "cell_type": "code",
      "source": [
        "class Bandit:\n",
        "# (1) 변수 설정\n",
        "  def __init__(self, k, means, std_devs, initial_value):\n",
        "    self.k = k\n",
        "    self.rewards = np.array([np.random.normal(loc=mean, scale=std_dev)\n",
        "                              for mean, std_dev in zip(means, std_devs)])\n",
        "    self.Qs = np.full(k, initial_value) # action values for each action\n",
        "    self.num_selected = np.zeros(k) # number of times each action was selected\n",
        "# 2. 초기화\n",
        "# (2) k-armed baidnt 초기화: Mean values for each action\n",
        "means = [2.75, 2.0, 2.5]\n",
        "std_devs = [0.5, 3.0, 2.0]\n",
        "initial_value = 10.0\n",
        "bandit = Bandit(k, means, std_devs, initial_value)\n"
      ],
      "metadata": {
        "id": "_K91TvpafXrs"
      },
      "execution_count": null,
      "outputs": []
    }
  ]
}